{
 "metadata": {
  "name": "",
  "signature": "sha256:c77703d80b7fb9f65d1cf69e55ad9dc77e4d102b2422f0177b870989b4787320"
 },
 "nbformat": 3,
 "nbformat_minor": 0,
 "worksheets": [
  {
   "cells": [
    {
     "cell_type": "code",
     "collapsed": false,
     "input": [
      "import numpy as np\n",
      "import nltk\n",
      "from preprocessor import preprocess\n",
      "import itertools\n",
      "import re"
     ],
     "language": "python",
     "metadata": {},
     "outputs": [],
     "prompt_number": 6
    },
    {
     "cell_type": "code",
     "collapsed": false,
     "input": [
      "ob = preprocess()\n",
      "obj = ob.load()\n",
      "# obj = ob.cleanAndSave()\n",
      "train = obj.X_train\n",
      "print len(train)"
     ],
     "language": "python",
     "metadata": {},
     "outputs": [
      {
       "output_type": "stream",
       "stream": "stdout",
       "text": [
        "21000\n"
       ]
      }
     ],
     "prompt_number": 8
    },
    {
     "cell_type": "code",
     "collapsed": false,
     "input": [
      "# train = train[:]\n",
      "# tra\n",
      "print len(train)\n",
      "tokenized = [nltk.word_tokenize(train[i]) for i in range(len(train))]\n",
      "freq = nltk.FreqDist(itertools.chain(*tokenized))\n",
      "# print freq.items()\n",
      "print \"Found %d unique words tokens.\" % len(freq.items())"
     ],
     "language": "python",
     "metadata": {},
     "outputs": [
      {
       "output_type": "stream",
       "stream": "stdout",
       "text": [
        "214130\n",
        "Found 102743 unique words tokens."
       ]
      },
      {
       "output_type": "stream",
       "stream": "stdout",
       "text": [
        "\n"
       ]
      }
     ],
     "prompt_number": 11
    },
    {
     "cell_type": "code",
     "collapsed": false,
     "input": [
      "print obj.word_to_index['SENTENCE_START']"
     ],
     "language": "python",
     "metadata": {},
     "outputs": [
      {
       "output_type": "stream",
       "stream": "stdout",
       "text": [
        "1\n"
       ]
      }
     ],
     "prompt_number": 15
    },
    {
     "cell_type": "code",
     "collapsed": false,
     "input": [
      "print train[5]\n",
      "post = train[5]\n",
      "f = nltk.word_tokenize(post)\n",
      "\n",
      "nltk.pos_tag(f)\n",
      "# link_to_replace_with = ' img.twitter.com/abcdxyz '\n",
      "# pattern_twitter = \"[a-zA-z]+.twitter.com/[a-zA-Z0-9]+\"\n",
      "# pattern = '(?:[a-zA-Z]|[0-9]|[$-_@.&+]|[!*\\(\\),]|(?:%[0-9a-fA-F][0-9a-fA-F]))+'\n",
      "# compiled = re.compile(pattern_twitter)\n",
      "# print compiled.sub(link_to_replace_with,replace)\n",
      "# print train[0]\n"
     ],
     "language": "python",
     "metadata": {},
     "outputs": [
      {
       "output_type": "stream",
       "stream": "stdout",
       "text": [
        "SENTENCE_START Austrian tourist molested by parlour manager in Udaipur  https://examplearticle/exres/abcd.com \u00a0 via @ img.twitter.com/abcdxyz  SENTENCE_END\n"
       ]
      },
      {
       "metadata": {},
       "output_type": "pyout",
       "prompt_number": 4,
       "text": [
        "[(u'SENTENCE_START', 'NNP'),\n",
        " (u'Austrian', 'NNP'),\n",
        " (u'tourist', 'NN'),\n",
        " (u'molested', 'VBN'),\n",
        " (u'by', 'IN'),\n",
        " (u'parlour', 'NN'),\n",
        " (u'manager', 'NN'),\n",
        " (u'in', 'IN'),\n",
        " (u'Udaipur', 'NNP'),\n",
        " (u'https', 'NN'),\n",
        " (u':', ':'),\n",
        " (u'//examplearticle/exres/abcd.com', 'NN'),\n",
        " (u'via', 'IN'),\n",
        " (u'@', 'NNP'),\n",
        " (u'img.twitter.com/abcdxyz', 'VBP'),\n",
        " (u'SENTENCE_END', 'NNP')]"
       ]
      }
     ],
     "prompt_number": 4
    },
    {
     "cell_type": "code",
     "collapsed": false,
     "input": [
      "vocab_size = 10000\n",
      "vocab = freq.most_common(vocab_size-1)\n",
      "print len(vocab)"
     ],
     "language": "python",
     "metadata": {},
     "outputs": [
      {
       "output_type": "stream",
       "stream": "stdout",
       "text": [
        "9999\n"
       ]
      }
     ],
     "prompt_number": 19
    },
    {
     "cell_type": "code",
     "collapsed": false,
     "input": [],
     "language": "python",
     "metadata": {},
     "outputs": [],
     "prompt_number": 4
    },
    {
     "cell_type": "code",
     "collapsed": false,
     "input": [
      "a = ['a','b','c','d']\n",
      "for i,w in enumerate(a):\n",
      "    print i, w"
     ],
     "language": "python",
     "metadata": {},
     "outputs": [
      {
       "output_type": "stream",
       "stream": "stdout",
       "text": [
        "0 a\n",
        "1 b\n",
        "2 c\n",
        "3 d\n"
       ]
      }
     ],
     "prompt_number": 22
    },
    {
     "cell_type": "code",
     "collapsed": false,
     "input": [
      "print len(obj.vocab)"
     ],
     "language": "python",
     "metadata": {},
     "outputs": [
      {
       "output_type": "stream",
       "stream": "stdout",
       "text": [
        "9999\n"
       ]
      }
     ],
     "prompt_number": 4
    },
    {
     "cell_type": "code",
     "collapsed": false,
     "input": [
      "print "
     ],
     "language": "python",
     "metadata": {},
     "outputs": [
      {
       "output_type": "stream",
       "stream": "stdout",
       "text": [
        "(214130,)\n"
       ]
      }
     ],
     "prompt_number": 9
    },
    {
     "cell_type": "code",
     "collapsed": false,
     "input": [
      "for i in np.arange(1,4):\n",
      "    print i"
     ],
     "language": "python",
     "metadata": {},
     "outputs": [
      {
       "output_type": "stream",
       "stream": "stdout",
       "text": [
        "1\n",
        "2\n",
        "3\n"
       ]
      }
     ],
     "prompt_number": 11
    },
    {
     "cell_type": "code",
     "collapsed": false,
     "input": [
      "u = np.random.randint(1,5,(6,4))\n",
      "print u"
     ],
     "language": "python",
     "metadata": {},
     "outputs": [
      {
       "output_type": "stream",
       "stream": "stdout",
       "text": [
        "[[1 3 3 2]\n",
        " [2 4 2 2]\n",
        " [2 2 1 4]\n",
        " [1 2 3 2]\n",
        " [3 4 4 4]\n",
        " [2 1 1 4]]\n"
       ]
      }
     ],
     "prompt_number": 12
    },
    {
     "cell_type": "code",
     "collapsed": false,
     "input": [
      "x = [0,1,0,0]"
     ],
     "language": "python",
     "metadata": {},
     "outputs": [],
     "prompt_number": 13
    },
    {
     "cell_type": "code",
     "collapsed": false,
     "input": [
      "print u[:,x]"
     ],
     "language": "python",
     "metadata": {},
     "outputs": [
      {
       "output_type": "stream",
       "stream": "stdout",
       "text": [
        "[[1 3 1 1]\n",
        " [2 4 2 2]\n",
        " [2 2 2 2]\n",
        " [1 2 1 1]\n",
        " [3 4 3 3]\n",
        " [2 1 2 2]]\n"
       ]
      }
     ],
     "prompt_number": 14
    },
    {
     "cell_type": "code",
     "collapsed": false,
     "input": [
      "max_l = 0\n",
      "for x in obj.y_train:\n",
      "    max_l = max(len(x),max_l)\n",
      "print max_l"
     ],
     "language": "python",
     "metadata": {},
     "outputs": [
      {
       "output_type": "stream",
       "stream": "stdout",
       "text": [
        "50\n"
       ]
      }
     ],
     "prompt_number": 14
    },
    {
     "cell_type": "code",
     "collapsed": false,
     "input": [
      "print obj.X_train[0]\n",
      "\n",
      "print len(obj.y_train[0])"
     ],
     "language": "python",
     "metadata": {},
     "outputs": [
      {
       "output_type": "stream",
       "stream": "stdout",
       "text": [
        "[   1 3423  261   59 4888    8  705   13 9999   63  117  843  332   86   17\n",
        "  330    0    4    0    3    5    2    2    2    2    2    2    2    2    2\n",
        "    2    2    2    2    2    2    2    2    2    2    2    2    2    2    2\n",
        "    2    2    2    2    2]\n",
        "50\n"
       ]
      }
     ],
     "prompt_number": 9
    },
    {
     "cell_type": "code",
     "collapsed": false,
     "input": [
      "np.array(list(obj.y_train[:3]))"
     ],
     "language": "python",
     "metadata": {},
     "outputs": [
      {
       "metadata": {},
       "output_type": "pyout",
       "prompt_number": 22,
       "text": [
        "array([[3423,  261,   59, 4888,    8,  705,   13, 9999,   63,  117,  843,\n",
        "         332,   86,   17,  330,    0,    4,    0,    3,    5,    2,    2,\n",
        "           2,    2,    2,    2,    2,    2,    2,    2,    2,    2,    2,\n",
        "           2,    2,    2,    2,    2,    2,    2,    2,    2,    2,    2,\n",
        "           2,    2,    2,    2,    2,    2],\n",
        "       [  12, 9999,   34, 9999,  795, 9999,  222,  139,    6,   46,   30,\n",
        "           2,    2,    2,    2,    2,    2,    2,    2,    2,    2,    2,\n",
        "           2,    2,    2,    2,    2,    2,    2,    2,    2,    2,    2,\n",
        "           2,    2,    2,    2,    2,    2,    2,    2,    2,    2,    2,\n",
        "           2,    2,    2,    2,    2,    2],\n",
        "       [9999, 8825,   21, 2118,  834,  624,   63,   12,  368,   77, 7488,\n",
        "           4,    0,    3,    9,    2,    2,    2,    2,    2,    2,    2,\n",
        "           2,    2,    2,    2,    2,    2,    2,    2,    2,    2,    2,\n",
        "           2,    2,    2,    2,    2,    2,    2,    2,    2,    2,    2,\n",
        "           2,    2,    2,    2,    2,    2]])"
       ]
      }
     ],
     "prompt_number": 22
    },
    {
     "cell_type": "code",
     "collapsed": false,
     "input": [
      "f"
     ],
     "language": "python",
     "metadata": {},
     "outputs": [
      {
       "metadata": {},
       "output_type": "pyout",
       "prompt_number": 16,
       "text": [
        "array([ array([   1, 3423,  261,   59, 4888,    8,  705,   13, 9999,   63,  117,\n",
        "        843,  332,   86,   17,  330,    0,    4,    0,    3,    5,    2,\n",
        "          2,    2,    2,    2,    2,    2,    2,    2,    2,    2,    2,\n",
        "          2,    2,    2,    2,    2,    2,    2,    2,    2,    2,    2,\n",
        "          2,    2,    2,    2,    2,    2]),\n",
        "       array([   1,   12, 9999,   34, 9999,  795, 9999,  222,  139,    6,   46,\n",
        "         30,    2,    2,    2,    2,    2,    2,    2,    2,    2,    2,\n",
        "          2,    2,    2,    2,    2,    2,    2,    2,    2,    2,    2,\n",
        "          2,    2,    2,    2,    2,    2,    2,    2,    2,    2,    2,\n",
        "          2,    2,    2,    2,    2,    2]),\n",
        "       array([   1, 9999, 8825,   21, 2118,  834,  624,   63,   12,  368,   77,\n",
        "       7488,    4,    0,    3,    9,    2,    2,    2,    2,    2,    2,\n",
        "          2,    2,    2,    2,    2,    2,    2,    2,    2,    2,    2,\n",
        "          2,    2,    2,    2,    2,    2,    2,    2,    2,    2,    2,\n",
        "          2,    2,    2,    2,    2,    2])], dtype=object)"
       ]
      }
     ],
     "prompt_number": 16
    },
    {
     "cell_type": "raw",
     "metadata": {},
     "source": []
    },
    {
     "cell_type": "markdown",
     "metadata": {},
     "source": [
      "# Feedforward"
     ]
    },
    {
     "cell_type": "code",
     "collapsed": false,
     "input": [
      "hidden_nodes = 10\n",
      "word_dim = 20\n",
      "W = np.random.randint(1,5,(10,10))\n",
      "U = np.random.randint(1,5,(hidden_nodes,word_dim))"
     ],
     "language": "python",
     "metadata": {},
     "outputs": [],
     "prompt_number": 3
    },
    {
     "cell_type": "code",
     "collapsed": false,
     "input": [
      "X = np.array(list(obj.X_train[:5]))\n",
      "y = np.array(list(obj.y_train[:5]))\n",
      "T = X.shape[-1]\n",
      "dp = X.shape[0]"
     ],
     "language": "python",
     "metadata": {},
     "outputs": [],
     "prompt_number": 4
    },
    {
     "cell_type": "code",
     "collapsed": false,
     "input": [
      "hidden_state_info_activated = np.zeros((dp,T+1,hidden_nodes))\n",
      "hidden_state_info = np.random.randint(1,5,(dp,T+1,hidden_nodes))\n",
      "output = np.zeros((dp,T+1,word_dim))"
     ],
     "language": "python",
     "metadata": {},
     "outputs": [],
     "prompt_number": 5
    },
    {
     "cell_type": "code",
     "collapsed": false,
     "input": [
      "d =  hidden_state_info[:,0,:].reshape(dp,1,hidden_nodes)\n",
      "a = np.dot(d,W.T)\n",
      "a.shape\n",
      "print a\n",
      "a = a.squeeze()"
     ],
     "language": "python",
     "metadata": {},
     "outputs": [
      {
       "output_type": "stream",
       "stream": "stdout",
       "text": [
        "[[[44 41 50 40 51 49 37 64 53 36]]\n",
        "\n",
        " [[55 44 54 39 54 52 39 70 63 48]]\n",
        "\n",
        " [[72 56 67 49 74 63 57 86 79 60]]\n",
        "\n",
        " [[52 42 65 45 61 56 37 73 61 44]]\n",
        "\n",
        " [[59 47 58 40 56 49 45 74 65 51]]]\n"
       ]
      }
     ],
     "prompt_number": 6
    },
    {
     "cell_type": "code",
     "collapsed": false,
     "input": [
      "print U\n",
      "X"
     ],
     "language": "python",
     "metadata": {},
     "outputs": [
      {
       "output_type": "stream",
       "stream": "stdout",
       "text": [
        "[[1 4 3 4 3 1 1 4 3 2 3 1 3 3 1 4 2 4 3 3]\n",
        " [4 1 1 2 3 4 1 1 2 4 4 3 3 3 2 3 1 1 3 3]\n",
        " [3 3 4 4 1 4 1 4 3 2 4 4 1 2 2 2 4 3 2 3]\n",
        " [4 4 4 1 1 1 1 4 4 1 4 1 2 3 1 1 1 4 1 3]\n",
        " [1 1 3 3 4 1 2 3 3 1 4 3 4 2 3 4 4 2 3 4]\n",
        " [3 1 3 4 3 1 4 1 3 2 3 4 3 3 3 2 3 1 2 1]\n",
        " [1 2 2 2 4 1 2 1 3 3 4 3 2 1 2 2 4 3 1 1]\n",
        " [1 4 1 2 2 3 3 3 4 1 1 4 3 2 3 3 1 4 1 1]\n",
        " [3 2 4 1 1 4 3 2 2 2 4 1 1 2 3 1 3 1 2 2]\n",
        " [1 1 2 3 1 4 3 4 2 4 1 1 3 4 1 3 1 3 3 4]]\n"
       ]
      },
      {
       "metadata": {},
       "output_type": "pyout",
       "prompt_number": 7,
       "text": [
        "array([[   1, 3423,  261,   59, 4888,    8,  705,   13, 9999,   63,  117,\n",
        "         843,  332,   86,   17,  330,    0,    4,    0,    3,    5,    2,\n",
        "           2,    2,    2,    2,    2,    2,    2,    2,    2,    2,    2,\n",
        "           2,    2,    2,    2,    2,    2,    2,    2,    2,    2,    2,\n",
        "           2,    2,    2,    2,    2,    2],\n",
        "       [   1,   12, 9999,   34, 9999,  795, 9999,  222,  139,    6,   46,\n",
        "          30,    2,    2,    2,    2,    2,    2,    2,    2,    2,    2,\n",
        "           2,    2,    2,    2,    2,    2,    2,    2,    2,    2,    2,\n",
        "           2,    2,    2,    2,    2,    2,    2,    2,    2,    2,    2,\n",
        "           2,    2,    2,    2,    2,    2],\n",
        "       [   1, 9999, 8825,   21, 2118,  834,  624,   63,   12,  368,   77,\n",
        "        7488,    4,    0,    3,    9,    2,    2,    2,    2,    2,    2,\n",
        "           2,    2,    2,    2,    2,    2,    2,    2,    2,    2,    2,\n",
        "           2,    2,    2,    2,    2,    2,    2,    2,    2,    2,    2,\n",
        "           2,    2,    2,    2,    2,    2],\n",
        "       [   1, 9999,  626,    8,  104,    7,  102,   68,  110, 1856,    4,\n",
        "           0,    3,    5,    2,    2,    2,    2,    2,    2,    2,    2,\n",
        "           2,    2,    2,    2,    2,    2,    2,    2,    2,    2,    2,\n",
        "           2,    2,    2,    2,    2,    2,    2,    2,    2,    2,    2,\n",
        "           2,    2,    2,    2,    2,    2],\n",
        "       [   1, 3868, 3701,  328,    7, 3459,  422, 9999,   11,   10, 1604,\n",
        "         155, 9999,    6,   30,  171,  811, 2767,    2,    2,    2,    2,\n",
        "           2,    2,    2,    2,    2,    2,    2,    2,    2,    2,    2,\n",
        "           2,    2,    2,    2,    2,    2,    2,    2,    2,    2,    2,\n",
        "           2,    2,    2,    2,    2,    2]])"
       ]
      }
     ],
     "prompt_number": 7
    },
    {
     "cell_type": "code",
     "collapsed": false,
     "input": [
      "j = X[:,0]\n",
      "j"
     ],
     "language": "python",
     "metadata": {},
     "outputs": [
      {
       "metadata": {},
       "output_type": "pyout",
       "prompt_number": 8,
       "text": [
        "array([1, 1, 1, 1, 1])"
       ]
      }
     ],
     "prompt_number": 8
    },
    {
     "cell_type": "code",
     "collapsed": false,
     "input": [
      "b = U[:,j].T\n",
      "print b\n",
      "c = a+b\n",
      "c"
     ],
     "language": "python",
     "metadata": {},
     "outputs": [
      {
       "output_type": "stream",
       "stream": "stdout",
       "text": [
        "[[4 1 3 4 1 1 2 4 2 1]\n",
        " [4 1 3 4 1 1 2 4 2 1]\n",
        " [4 1 3 4 1 1 2 4 2 1]\n",
        " [4 1 3 4 1 1 2 4 2 1]\n",
        " [4 1 3 4 1 1 2 4 2 1]]\n"
       ]
      },
      {
       "metadata": {},
       "output_type": "pyout",
       "prompt_number": 9,
       "text": [
        "array([[48, 42, 53, 44, 52, 50, 39, 68, 55, 37],\n",
        "       [59, 45, 57, 43, 55, 53, 41, 74, 65, 49],\n",
        "       [76, 57, 70, 53, 75, 64, 59, 90, 81, 61],\n",
        "       [56, 43, 68, 49, 62, 57, 39, 77, 63, 45],\n",
        "       [63, 48, 61, 44, 57, 50, 47, 78, 67, 52]])"
       ]
      }
     ],
     "prompt_number": 9
    },
    {
     "cell_type": "code",
     "collapsed": false,
     "input": [
      "hidden_state_info[:,1] = c"
     ],
     "language": "python",
     "metadata": {},
     "outputs": [],
     "prompt_number": 10
    },
    {
     "cell_type": "code",
     "collapsed": false,
     "input": [
      "a"
     ],
     "language": "python",
     "metadata": {},
     "outputs": [
      {
       "metadata": {},
       "output_type": "pyout",
       "prompt_number": 11,
       "text": [
        "array([[44, 41, 50, 40, 51, 49, 37, 64, 53, 36],\n",
        "       [55, 44, 54, 39, 54, 52, 39, 70, 63, 48],\n",
        "       [72, 56, 67, 49, 74, 63, 57, 86, 79, 60],\n",
        "       [52, 42, 65, 45, 61, 56, 37, 73, 61, 44],\n",
        "       [59, 47, 58, 40, 56, 49, 45, 74, 65, 51]])"
       ]
      }
     ],
     "prompt_number": 11
    },
    {
     "cell_type": "code",
     "collapsed": false,
     "input": [
      "maxi = np.max(a,axis=-1)"
     ],
     "language": "python",
     "metadata": {},
     "outputs": [],
     "prompt_number": 12
    },
    {
     "cell_type": "code",
     "collapsed": false,
     "input": [
      "a = a - maxi.reshape(-1,1)"
     ],
     "language": "python",
     "metadata": {},
     "outputs": [],
     "prompt_number": 13
    },
    {
     "cell_type": "code",
     "collapsed": false,
     "input": [
      "1.0*a/np.sum(a,axis=-1).reshape(-1,1)"
     ],
     "language": "python",
     "metadata": {},
     "outputs": [
      {
       "metadata": {},
       "output_type": "pyout",
       "prompt_number": 14,
       "text": [
        "array([[ 0.11428571,  0.13142857,  0.08      ,  0.13714286,  0.07428571,\n",
        "         0.08571429,  0.15428571, -0.        ,  0.06285714,  0.16      ],\n",
        "       [ 0.08241758,  0.14285714,  0.08791209,  0.17032967,  0.08791209,\n",
        "         0.0989011 ,  0.17032967, -0.        ,  0.03846154,  0.12087912],\n",
        "       [ 0.07106599,  0.15228426,  0.0964467 ,  0.18781726,  0.06091371,\n",
        "         0.11675127,  0.14720812, -0.        ,  0.03553299,  0.1319797 ],\n",
        "       [ 0.10824742,  0.15979381,  0.04123711,  0.1443299 ,  0.06185567,\n",
        "         0.08762887,  0.18556701, -0.        ,  0.06185567,  0.14948454],\n",
        "       [ 0.07653061,  0.1377551 ,  0.08163265,  0.17346939,  0.09183673,\n",
        "         0.12755102,  0.14795918, -0.        ,  0.04591837,  0.11734694]])"
       ]
      }
     ],
     "prompt_number": 14
    },
    {
     "cell_type": "code",
     "collapsed": false,
     "input": [
      "np.argmax(hidden_state_info[:2],axis=-1)"
     ],
     "language": "python",
     "metadata": {},
     "outputs": [
      {
       "metadata": {},
       "output_type": "pyout",
       "prompt_number": 15,
       "text": [
        "array([[7, 7, 2, 2, 2, 1, 1, 0, 1, 0, 7, 0, 1, 2, 3, 3, 6, 0, 0, 1, 1, 9,\n",
        "        0, 6, 2, 8, 0, 1, 5, 2, 0, 0, 2, 0, 8, 1, 0, 0, 7, 0, 6, 6, 3, 2,\n",
        "        1, 6, 8, 0, 0, 2, 0],\n",
        "       [3, 7, 0, 5, 4, 1, 4, 1, 1, 7, 5, 0, 0, 0, 1, 2, 0, 8, 0, 1, 1, 1,\n",
        "        2, 9, 3, 2, 1, 1, 7, 0, 0, 0, 0, 0, 1, 3, 0, 0, 0, 5, 0, 4, 1, 3,\n",
        "        0, 2, 3, 2, 3, 1, 2]])"
       ]
      }
     ],
     "prompt_number": 15
    },
    {
     "cell_type": "code",
     "collapsed": false,
     "input": [
      "print hidden_state_info[:2]\n",
      "print np.max(hidden_state_info[:2],axis=-1)"
     ],
     "language": "python",
     "metadata": {},
     "outputs": [
      {
       "output_type": "stream",
       "stream": "stdout",
       "text": [
        "[[[ 2  1  3 ...,  4  3  2]\n",
        "  [48 42 53 ..., 68 55 37]\n",
        "  [ 3  2  4 ...,  3  3  2]\n",
        "  ..., \n",
        "  [ 4  4  3 ...,  2  3  3]\n",
        "  [ 3  3  4 ...,  1  3  3]\n",
        "  [ 4  1  1 ...,  3  4  4]]\n",
        "\n",
        " [[ 3  1  2 ...,  3  1  4]\n",
        "  [59 45 57 ..., 74 65 49]\n",
        "  [ 4  1  2 ...,  4  4  4]\n",
        "  ..., \n",
        "  [ 3  2  3 ...,  2  2  1]\n",
        "  [ 3  4  4 ...,  4  3  3]\n",
        "  [ 3  1  4 ...,  4  3  3]]]\n",
        "[[ 4 68  4  4  4  4  4  4  4  4  4  4  4  4  4  4  4  4  4  4  4  4  4  4\n",
        "   4  4  4  4  4  4  4  3  4  4  4  4  4  4  4  4  4  4  4  4  4  4  4  4\n",
        "   4  4  4]\n",
        " [ 4 74  4  4  4  4  4  4  4  4  4  4  4  4  4  4  3  4  4  4  4  4  4  4\n",
        "   4  4  4  4  4  4  4  4  3  4  4  4  4  4  4  4  4  4  4  4  4  4  4  4\n",
        "   4  4  4]]\n"
       ]
      }
     ],
     "prompt_number": 16
    },
    {
     "cell_type": "code",
     "collapsed": false,
     "input": [
      "a"
     ],
     "language": "python",
     "metadata": {},
     "outputs": [
      {
       "metadata": {},
       "output_type": "pyout",
       "prompt_number": 17,
       "text": [
        "array([[-20, -23, -14, -24, -13, -15, -27,   0, -11, -28],\n",
        "       [-15, -26, -16, -31, -16, -18, -31,   0,  -7, -22],\n",
        "       [-14, -30, -19, -37, -12, -23, -29,   0,  -7, -26],\n",
        "       [-21, -31,  -8, -28, -12, -17, -36,   0, -12, -29],\n",
        "       [-15, -27, -16, -34, -18, -25, -29,   0,  -9, -23]])"
       ]
      }
     ],
     "prompt_number": 17
    },
    {
     "cell_type": "code",
     "collapsed": false,
     "input": [
      "a[:]"
     ],
     "language": "python",
     "metadata": {},
     "outputs": [
      {
       "metadata": {},
       "output_type": "pyout",
       "prompt_number": 18,
       "text": [
        "array([[-20, -23, -14, -24, -13, -15, -27,   0, -11, -28],\n",
        "       [-15, -26, -16, -31, -16, -18, -31,   0,  -7, -22],\n",
        "       [-14, -30, -19, -37, -12, -23, -29,   0,  -7, -26],\n",
        "       [-21, -31,  -8, -28, -12, -17, -36,   0, -12, -29],\n",
        "       [-15, -27, -16, -34, -18, -25, -29,   0,  -9, -23]])"
       ]
      }
     ],
     "prompt_number": 18
    },
    {
     "cell_type": "markdown",
     "metadata": {},
     "source": [
      "#BPTT"
     ]
    },
    {
     "cell_type": "code",
     "collapsed": false,
     "input": [
      "y_act = np.random.randint(1,6,(3,5))\n",
      "y_cal = np.random.randint(1,5,(3,5,10)) "
     ],
     "language": "python",
     "metadata": {},
     "outputs": [],
     "prompt_number": 3
    },
    {
     "cell_type": "code",
     "collapsed": false,
     "input": [
      "print y_act\n",
      "y_res = y_act.reshape(3,5,1)\n",
      "print y_res"
     ],
     "language": "python",
     "metadata": {},
     "outputs": [
      {
       "output_type": "stream",
       "stream": "stdout",
       "text": [
        "[[3 3 5 4 2]\n",
        " [3 5 1 5 3]\n",
        " [5 2 1 5 2]]\n",
        "[[[3]\n",
        "  [3]\n",
        "  [5]\n",
        "  [4]\n",
        "  [2]]\n",
        "\n",
        " [[3]\n",
        "  [5]\n",
        "  [1]\n",
        "  [5]\n",
        "  [3]]\n",
        "\n",
        " [[5]\n",
        "  [2]\n",
        "  [1]\n",
        "  [5]\n",
        "  [2]]]\n"
       ]
      }
     ],
     "prompt_number": 20
    },
    {
     "cell_type": "code",
     "collapsed": false,
     "input": [
      "y_cal"
     ],
     "language": "python",
     "metadata": {},
     "outputs": [
      {
       "metadata": {},
       "output_type": "pyout",
       "prompt_number": 27,
       "text": [
        "array([[[1, 3, 3, 0, 3, 2, 1, 3, 3, 4],\n",
        "        [1, 3, 4, 0, 1, 2, 3, 1, 2, 2],\n",
        "        [1, 2, 2, 1, 1, 2, 2, 3, 2, 4],\n",
        "        [3, 2, 2, 3, 3, 3, 4, 4, 4, 4],\n",
        "        [1, 4, 2, 4, 2, 4, 2, 4, 2, 3]],\n",
        "\n",
        "       [[3, 2, 1, 1, 2, 2, 4, 3, 3, 4],\n",
        "        [2, 2, 1, 4, 3, 1, 3, 3, 4, 3],\n",
        "        [1, 1, 2, 3, 1, 1, 1, 4, 1, 3],\n",
        "        [2, 4, 2, 3, 2, 3, 2, 2, 2, 2],\n",
        "        [1, 3, 3, 1, 1, 2, 4, 1, 1, 3]],\n",
        "\n",
        "       [[1, 2, 1, 2, 4, 3, 3, 1, 1, 3],\n",
        "        [4, 3, 1, 3, 1, 3, 4, 2, 1, 3],\n",
        "        [4, 3, 1, 1, 1, 3, 1, 1, 3, 1],\n",
        "        [2, 2, 3, 2, 3, 1, 3, 3, 3, 2],\n",
        "        [1, 2, 2, 4, 1, 2, 1, 3, 2, 2]]])"
       ]
      }
     ],
     "prompt_number": 27
    },
    {
     "cell_type": "code",
     "collapsed": false,
     "input": [
      "# y_cal[y_res]\n",
      "y_cal[np.arange(3).reshape(-1,1),[[0,1,2,3,4],[0,1,2,3,4],[0,1,2,3,4]],y_act]"
     ],
     "language": "python",
     "metadata": {},
     "outputs": [],
     "prompt_number": 25
    },
    {
     "cell_type": "code",
     "collapsed": false,
     "input": [
      "y_cal"
     ],
     "language": "python",
     "metadata": {},
     "outputs": [
      {
       "metadata": {},
       "output_type": "pyout",
       "prompt_number": 26,
       "text": [
        "array([[[1, 3, 3, 0, 3, 2, 1, 3, 3, 4],\n",
        "        [1, 3, 4, 0, 1, 2, 3, 1, 2, 2],\n",
        "        [1, 2, 2, 1, 1, 2, 2, 3, 2, 4],\n",
        "        [3, 2, 2, 3, 3, 3, 4, 4, 4, 4],\n",
        "        [1, 4, 2, 4, 2, 4, 2, 4, 2, 3]],\n",
        "\n",
        "       [[3, 2, 1, 1, 2, 2, 4, 3, 3, 4],\n",
        "        [2, 2, 1, 4, 3, 1, 3, 3, 4, 3],\n",
        "        [1, 1, 2, 3, 1, 1, 1, 4, 1, 3],\n",
        "        [2, 4, 2, 3, 2, 3, 2, 2, 2, 2],\n",
        "        [1, 3, 3, 1, 1, 2, 4, 1, 1, 3]],\n",
        "\n",
        "       [[1, 2, 1, 2, 4, 3, 3, 1, 1, 3],\n",
        "        [4, 3, 1, 3, 1, 3, 4, 2, 1, 3],\n",
        "        [4, 3, 1, 1, 1, 3, 1, 1, 3, 1],\n",
        "        [2, 2, 3, 2, 3, 1, 3, 3, 3, 2],\n",
        "        [1, 2, 2, 4, 1, 2, 1, 3, 2, 2]]])"
       ]
      }
     ],
     "prompt_number": 26
    },
    {
     "cell_type": "code",
     "collapsed": false,
     "input": [
      "ain = np.random.randint(1,4,(3,4,1,5))\n",
      "dout = np.random.randint(5,8,(3,4,7,1))\n",
      "print ain\n",
      "print dout\n",
      "dout.reshape(-1,-1,-1,-1,1).shape"
     ],
     "language": "python",
     "metadata": {},
     "outputs": [
      {
       "output_type": "stream",
       "stream": "stdout",
       "text": [
        "[[[[3 2 1 1 1]]\n",
        "\n",
        "  [[3 3 1 2 2]]\n",
        "\n",
        "  [[2 3 1 1 3]]\n",
        "\n",
        "  [[3 3 2 2 1]]]\n",
        "\n",
        "\n",
        " [[[2 3 3 1 1]]\n",
        "\n",
        "  [[3 1 1 2 1]]\n",
        "\n",
        "  [[3 2 3 1 1]]\n",
        "\n",
        "  [[3 2 2 1 1]]]\n",
        "\n",
        "\n",
        " [[[3 1 1 1 2]]\n",
        "\n",
        "  [[2 3 1 2 2]]\n",
        "\n",
        "  [[1 1 1 1 2]]\n",
        "\n",
        "  [[3 1 3 2 2]]]]\n",
        "[[[[5]\n",
        "   [6]\n",
        "   [5]\n",
        "   [6]\n",
        "   [5]\n",
        "   [5]\n",
        "   [6]]\n",
        "\n",
        "  [[7]\n",
        "   [7]\n",
        "   [7]\n",
        "   [7]\n",
        "   [7]\n",
        "   [7]\n",
        "   [6]]\n",
        "\n",
        "  [[6]\n",
        "   [7]\n",
        "   [6]\n",
        "   [7]\n",
        "   [5]\n",
        "   [6]\n",
        "   [5]]\n",
        "\n",
        "  [[6]\n",
        "   [5]\n",
        "   [5]\n",
        "   [5]\n",
        "   [6]\n",
        "   [5]\n",
        "   [5]]]\n",
        "\n",
        "\n",
        " [[[7]\n",
        "   [6]\n",
        "   [5]\n",
        "   [5]\n",
        "   [5]\n",
        "   [5]\n",
        "   [5]]\n",
        "\n",
        "  [[6]\n",
        "   [7]\n",
        "   [7]\n",
        "   [5]\n",
        "   [6]\n",
        "   [6]\n",
        "   [6]]\n",
        "\n",
        "  [[5]\n",
        "   [7]\n",
        "   [6]\n",
        "   [6]\n",
        "   [7]\n",
        "   [6]\n",
        "   [5]]\n",
        "\n",
        "  [[5]\n",
        "   [7]\n",
        "   [6]\n",
        "   [6]\n",
        "   [6]\n",
        "   [5]\n",
        "   [6]]]\n",
        "\n",
        "\n",
        " [[[6]\n",
        "   [5]\n",
        "   [7]\n",
        "   [7]\n",
        "   [5]\n",
        "   [6]\n",
        "   [7]]\n",
        "\n",
        "  [[6]\n",
        "   [5]\n",
        "   [7]\n",
        "   [5]\n",
        "   [7]\n",
        "   [7]\n",
        "   [6]]\n",
        "\n",
        "  [[6]\n",
        "   [7]\n",
        "   [6]\n",
        "   [5]\n",
        "   [7]\n",
        "   [7]\n",
        "   [5]]\n",
        "\n",
        "  [[5]\n",
        "   [6]\n",
        "   [7]\n",
        "   [6]\n",
        "   [6]\n",
        "   [6]\n",
        "   [7]]]]\n"
       ]
      },
      {
       "ename": "ValueError",
       "evalue": "can only specify one unknown dimension",
       "output_type": "pyerr",
       "traceback": [
        "\u001b[0;31m---------------------------------------------------------------------------\u001b[0m\n\u001b[0;31mValueError\u001b[0m                                Traceback (most recent call last)",
        "\u001b[0;32m<ipython-input-97-91efd5877ee6>\u001b[0m in \u001b[0;36m<module>\u001b[0;34m()\u001b[0m\n\u001b[1;32m      3\u001b[0m \u001b[0;32mprint\u001b[0m \u001b[0main\u001b[0m\u001b[0;34m\u001b[0m\u001b[0m\n\u001b[1;32m      4\u001b[0m \u001b[0;32mprint\u001b[0m \u001b[0mdout\u001b[0m\u001b[0;34m\u001b[0m\u001b[0m\n\u001b[0;32m----> 5\u001b[0;31m \u001b[0mdout\u001b[0m\u001b[0;34m.\u001b[0m\u001b[0mreshape\u001b[0m\u001b[0;34m(\u001b[0m\u001b[0;34m-\u001b[0m\u001b[0;36m1\u001b[0m\u001b[0;34m,\u001b[0m\u001b[0;34m-\u001b[0m\u001b[0;36m1\u001b[0m\u001b[0;34m,\u001b[0m\u001b[0;34m-\u001b[0m\u001b[0;36m1\u001b[0m\u001b[0;34m,\u001b[0m\u001b[0;34m-\u001b[0m\u001b[0;36m1\u001b[0m\u001b[0;34m,\u001b[0m\u001b[0;36m1\u001b[0m\u001b[0;34m)\u001b[0m\u001b[0;34m.\u001b[0m\u001b[0mshape\u001b[0m\u001b[0;34m\u001b[0m\u001b[0m\n\u001b[0m",
        "\u001b[0;31mValueError\u001b[0m: can only specify one unknown dimension"
       ]
      }
     ],
     "prompt_number": 97
    },
    {
     "cell_type": "code",
     "collapsed": false,
     "input": [
      "dJ = np.matmul(dout,ain)"
     ],
     "language": "python",
     "metadata": {},
     "outputs": [],
     "prompt_number": 79
    },
    {
     "cell_type": "code",
     "collapsed": false,
     "input": [
      "np.sum(dJ,axis=(-3,-4))"
     ],
     "language": "python",
     "metadata": {},
     "outputs": [
      {
       "metadata": {},
       "output_type": "pyout",
       "prompt_number": 84,
       "text": [
        "array([[117, 137, 122, 110, 149],\n",
        "       [149, 165, 145, 133, 178],\n",
        "       [134, 152, 127, 118, 161],\n",
        "       [129, 141, 121, 112, 151],\n",
        "       [132, 153, 135, 125, 168],\n",
        "       [130, 144, 127, 118, 160],\n",
        "       [135, 157, 141, 131, 169]])"
       ]
      }
     ],
     "prompt_number": 84
    },
    {
     "cell_type": "code",
     "collapsed": false,
     "input": [
      "dh =  np.random.randint(1,5,(3, 5, 7))\n",
      "dh"
     ],
     "language": "python",
     "metadata": {},
     "outputs": [
      {
       "metadata": {},
       "output_type": "pyout",
       "prompt_number": 89,
       "text": [
        "array([[[3, 3, 3, 4, 4, 1, 1],\n",
        "        [3, 2, 1, 1, 2, 3, 1],\n",
        "        [3, 1, 4, 4, 3, 1, 4],\n",
        "        [1, 2, 3, 3, 3, 4, 3],\n",
        "        [1, 3, 1, 3, 1, 4, 1]],\n",
        "\n",
        "       [[1, 2, 3, 2, 3, 1, 1],\n",
        "        [3, 4, 1, 2, 1, 2, 1],\n",
        "        [1, 3, 1, 3, 4, 4, 2],\n",
        "        [2, 1, 2, 4, 2, 1, 2],\n",
        "        [4, 2, 4, 4, 2, 3, 3]],\n",
        "\n",
        "       [[2, 2, 1, 1, 1, 1, 3],\n",
        "        [1, 4, 1, 1, 3, 2, 3],\n",
        "        [4, 3, 2, 3, 4, 2, 3],\n",
        "        [2, 3, 4, 4, 3, 3, 3],\n",
        "        [3, 1, 3, 1, 2, 3, 4]]])"
       ]
      }
     ],
     "prompt_number": 89
    },
    {
     "cell_type": "code",
     "collapsed": false,
     "input": [
      "g = dh[:,2]\n",
      "g"
     ],
     "language": "python",
     "metadata": {},
     "outputs": [
      {
       "metadata": {},
       "output_type": "pyout",
       "prompt_number": 104,
       "text": [
        "array([[3, 1, 4, 4, 3, 1, 4],\n",
        "       [1, 3, 1, 3, 4, 4, 2],\n",
        "       [4, 3, 2, 3, 4, 2, 3]])"
       ]
      }
     ],
     "prompt_number": 104
    },
    {
     "cell_type": "code",
     "collapsed": false,
     "input": [
      "g[:,[3,4]]+=1"
     ],
     "language": "python",
     "metadata": {},
     "outputs": [],
     "prompt_number": 105
    },
    {
     "cell_type": "code",
     "collapsed": false,
     "input": [
      "g"
     ],
     "language": "python",
     "metadata": {},
     "outputs": [
      {
       "metadata": {},
       "output_type": "pyout",
       "prompt_number": 106,
       "text": [
        "array([[3, 1, 4, 5, 4, 1, 4],\n",
        "       [1, 3, 1, 4, 5, 4, 2],\n",
        "       [4, 3, 2, 4, 5, 2, 3]])"
       ]
      }
     ],
     "prompt_number": 106
    },
    {
     "cell_type": "code",
     "collapsed": false,
     "input": [],
     "language": "python",
     "metadata": {},
     "outputs": []
    }
   ],
   "metadata": {}
  }
 ]
}